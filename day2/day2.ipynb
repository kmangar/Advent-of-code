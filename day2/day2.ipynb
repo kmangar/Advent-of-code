{
 "cells": [
  {
   "cell_type": "markdown",
   "metadata": {},
   "source": [
    "# Part 1\n"
   ]
  },
  {
   "cell_type": "code",
   "execution_count": null,
   "metadata": {},
   "outputs": [],
   "source": [
    "passwords = open(\"password.txt\", \"r\")\n",
    "pwds = passwords.readlines()\n"
   ]
  },
  {
   "cell_type": "code",
   "execution_count": null,
   "metadata": {},
   "outputs": [],
   "source": [
    "#spliting to get the low,high the character and password\n",
    "for line in pwds:\n",
    "    words = line.strip().split()\n",
    "    print(words)"
   ]
  },
  {
   "cell_type": "code",
   "execution_count": null,
   "metadata": {},
   "outputs": [],
   "source": [
    "#get the low and high\n",
    "for line in pwds:\n",
    "    words = line.strip().split()\n",
    "    low,high = [int(x) for x in words[0].split('-')]\n",
    "    print(low,high)"
   ]
  },
  {
   "cell_type": "code",
   "execution_count": null,
   "metadata": {
    "scrolled": false
   },
   "outputs": [],
   "source": [
    "#get the required character \n",
    "for line in pwds:\n",
    "    words = line.strip().split()\n",
    "    required_char = words[1][0]\n",
    "    print(required_char)"
   ]
  },
  {
   "cell_type": "code",
   "execution_count": null,
   "metadata": {},
   "outputs": [],
   "source": [
    "# gets the password and holds it in the variable password\n",
    "for line in pwds:\n",
    "    words = line.strip().split()\n",
    "    low,high = [int(x) for x in words[0].split('-')]\n",
    "    required_char = words[1][0]\n",
    "    password = words[2]\n",
    "    print(password)"
   ]
  },
  {
   "cell_type": "code",
   "execution_count": null,
   "metadata": {},
   "outputs": [],
   "source": [
    "#use deafaultdict to count the numbers of character in the password \n",
    "from collections import defaultdict\n",
    "\n",
    "for line in pwds:\n",
    "    words = line.strip().split()\n",
    "    low,high = [int(x) for x in words[0].split('-')]\n",
    "    required_char = words[1][0]\n",
    "    password = words[2]\n",
    "    counts = defaultdict(int)\n",
    "    for ch in password:\n",
    "        counts[ch] += 1\n",
    "    print(counts)    \n",
    "    "
   ]
  },
  {
   "cell_type": "code",
   "execution_count": null,
   "metadata": {},
   "outputs": [],
   "source": [
    "\n",
    "from collections import defaultdict\n",
    "ans = 0\n",
    "\n",
    "for line in pwds:\n",
    "    words = line.strip().split()\n",
    "    low,high = [int(x) for x in words[0].split('-')]\n",
    "    required_char = words[1][0]\n",
    "    password = words[2]\n",
    "    counts = defaultdict(int)\n",
    "    for ch in password:\n",
    "        counts[ch] += 1\n",
    "    #use\n",
    "    if low <= counts[required_char] <= high:\n",
    "        ans += 1\n",
    "print(ans)"
   ]
  },
  {
   "cell_type": "markdown",
   "metadata": {},
   "source": [
    "# Part 2"
   ]
  },
  {
   "cell_type": "code",
   "execution_count": null,
   "metadata": {},
   "outputs": [],
   "source": []
  }
 ],
 "metadata": {
  "kernelspec": {
   "display_name": "Python 3",
   "language": "python",
   "name": "python3"
  },
  "language_info": {
   "codemirror_mode": {
    "name": "ipython",
    "version": 3
   },
   "file_extension": ".py",
   "mimetype": "text/x-python",
   "name": "python",
   "nbconvert_exporter": "python",
   "pygments_lexer": "ipython3",
   "version": "3.7.6"
  }
 },
 "nbformat": 4,
 "nbformat_minor": 4
}
