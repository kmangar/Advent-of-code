{
 "cells": [
  {
   "cell_type": "markdown",
   "metadata": {},
   "source": [
    "# Part 1\n"
   ]
  },
  {
   "cell_type": "code",
   "execution_count": 5,
   "metadata": {},
   "outputs": [],
   "source": [
    "inputs = open('input.txt', 'r')\n",
    "lines = list(inputs.readlines())\n",
    "lines.append('')"
   ]
  },
  {
   "cell_type": "code",
   "execution_count": null,
   "metadata": {},
   "outputs": [],
   "source": [
    "len(lines)"
   ]
  },
  {
   "cell_type": "code",
   "execution_count": null,
   "metadata": {
    "scrolled": true
   },
   "outputs": [],
   "source": [
    "passport = {}\n",
    "ans = 0\n",
    "for li in lines:\n",
    "    li = li.strip()\n",
    "    if not li:\n",
    "        valid = True\n",
    "        for field in ['byr', 'iyr', 'eyr', 'hgt', 'hcl', 'ecl', 'pid']:\n",
    "            if field not in passport: \n",
    "                valid = False\n",
    "        print(passport, valid)\n",
    "        if valid:\n",
    "            ans += 1\n",
    "        passport = {}\n",
    "    else:\n",
    "        words = li.split()\n",
    "        for word in words:\n",
    "            a,s = word.split(':')\n",
    "            passport[a] = s\n",
    "print(ans)"
   ]
  },
  {
   "cell_type": "markdown",
   "metadata": {},
   "source": [
    "# Part 2\n"
   ]
  },
  {
   "cell_type": "code",
   "execution_count": null,
   "metadata": {},
   "outputs": [],
   "source": [
    "\n",
    "    byr (Birth Year) - four digits; at least 1920 and at most 2002.\n",
    "    iyr (Issue Year) - four digits; at least 2010 and at most 2020.\n",
    "    eyr (Expiration Year) - four digits; at least 2020 and at most 2030.\n",
    "    hgt (Height) - a number followed by either cm or in:\n",
    "        If cm, the number must be at least 150 and at most 193.\n",
    "        If in, the number must be at least 59 and at most 76.\n",
    "    hcl (Hair Color) - a # followed by exactly six characters 0-9 or a-f.\n",
    "    ecl (Eye Color) - exactly one of: amb blu brn gry grn hzl oth.\n",
    "    pid (Passport ID) - a nine-digit number, including leading zeroes.\n",
    "    cid (Country ID) - ignored, missing or not.\n"
   ]
  },
  {
   "cell_type": "code",
   "execution_count": 11,
   "metadata": {},
   "outputs": [
    {
     "name": "stdout",
     "output_type": "stream",
     "text": [
      "109\n"
     ]
    }
   ],
   "source": [
    "import re\n",
    "passport = {}\n",
    "ans2 = 0\n",
    "def in_range(s, low, high):\n",
    "    return low<=int(s)<=high\n",
    "\n",
    "for line in lines:\n",
    "    line = line.strip()\n",
    "    if not line:\n",
    "        valid1 = all([f in passport for f in  ['byr', 'iyr', 'eyr', 'hgt', 'hcl', 'ecl', 'pid']])\n",
    "        if valid1: \n",
    "            valid2 = True\n",
    "            if not in_range(passport['byr'], 1920, 2002):\n",
    "                valid2 = False\n",
    "            if not in_range(passport['iyr'], 2010, 2020):\n",
    "                valid2 = False\n",
    "            if not in_range(passport['eyr'], 2020, 2030):\n",
    "                valid2 = False\n",
    "\n",
    "            ht = passport['hgt']\n",
    "            if ht.endswith('cm'):\n",
    "                if not in_range(ht[:-2], 150, 193):\n",
    "                    valid2 = False\n",
    "            elif ht.endswith('in'):\n",
    "                if not in_range(ht[:-2], 59, 76):\n",
    "                    valid2 = False\n",
    "            else:\n",
    "                valid2 = False\n",
    "\n",
    "            hcl = passport['hcl']\n",
    "            if hcl[0] != '#' or any([c not in '0123456789abcdef' for c in hcl[1:]]):\n",
    "                valid2 = False\n",
    "\n",
    "            ecl = passport['ecl']\n",
    "            if ecl not in ['amb', 'blu', 'brn', 'gry', 'grn', 'hzl', 'oth']:\n",
    "                valid2 = False \n",
    "\n",
    "            pid = passport['pid']\n",
    "            if len(pid) != 9 or any([x not in '0123456789' for x in pid]):\n",
    "                valid2 = False\n",
    "            if valid2:\n",
    "                ans2 += 1\n",
    "        passport = {}\n",
    "    else:\n",
    "        words = line.split()\n",
    "        for word in words:\n",
    "            a,s = word.split(':')\n",
    "            passport[a] = s\n",
    "        \n",
    "print(ans2)"
   ]
  },
  {
   "cell_type": "code",
   "execution_count": null,
   "metadata": {},
   "outputs": [],
   "source": []
  }
 ],
 "metadata": {
  "kernelspec": {
   "display_name": "Python 3",
   "language": "python",
   "name": "python3"
  },
  "language_info": {
   "codemirror_mode": {
    "name": "ipython",
    "version": 3
   },
   "file_extension": ".py",
   "mimetype": "text/x-python",
   "name": "python",
   "nbconvert_exporter": "python",
   "pygments_lexer": "ipython3",
   "version": "3.7.6"
  }
 },
 "nbformat": 4,
 "nbformat_minor": 4
}
