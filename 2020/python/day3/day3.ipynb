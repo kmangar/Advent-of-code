{
 "cells": [
  {
   "cell_type": "markdown",
   "metadata": {},
   "source": [
    "# Part 1"
   ]
  },
  {
   "cell_type": "code",
   "execution_count": 1,
   "metadata": {},
   "outputs": [],
   "source": [
    "line = open('input.txt','r')\n",
    "lines = line.readlines()\n"
   ]
  },
  {
   "cell_type": "code",
   "execution_count": null,
   "metadata": {},
   "outputs": [],
   "source": [
    "print(lines)"
   ]
  },
  {
   "cell_type": "code",
   "execution_count": null,
   "metadata": {},
   "outputs": [],
   "source": [
    "\n",
    "curr_x = 0\n",
    "\n",
    "x = 3\n",
    "y=1\n",
    "trees = 0\n",
    "\n",
    "for curr_y, each_line in enumerate(lines):\n",
    "    if each_line[curr_x] == \"#\":\n",
    "        trees+=1\n",
    "    curr_x = (curr_x + x) % len(each_line[:-1])\n",
    "    \n",
    "print(trees)"
   ]
  },
  {
   "cell_type": "code",
   "execution_count": 2,
   "metadata": {},
   "outputs": [],
   "source": [
    "G = []\n",
    "for j in lines:\n",
    "    G.append(list(j.strip()))"
   ]
  },
  {
   "cell_type": "code",
   "execution_count": null,
   "metadata": {},
   "outputs": [],
   "source": [
    "r = 0\n",
    "c = 0\n",
    "ans = 0\n",
    "\n",
    "while r+1 < len(G):\n",
    "    c += 3\n",
    "    r += 1\n",
    "    if G[r][c%len(G[r])]== '#':\n",
    "        ans += 1\n",
    "print(ans)"
   ]
  },
  {
   "cell_type": "markdown",
   "metadata": {},
   "source": [
    "# Part 2"
   ]
  },
  {
   "cell_type": "code",
   "execution_count": 5,
   "metadata": {},
   "outputs": [
    {
     "name": "stdout",
     "output_type": "stream",
     "text": [
      "9533698720\n"
     ]
    }
   ],
   "source": [
    "slopes = [(1,  1),(3,  1),(5,  1),(7,  1),(1,  2)]\n",
    "ans = 1\n",
    "for (x, y) in slopes:\n",
    "    r = 0\n",
    "    c = 0\n",
    "    score = 0\n",
    "    while r < len(G):\n",
    "        c += x\n",
    "        r += y\n",
    "        if r < len(G) and G[r][c%len(G[r])]== '#':\n",
    "            score += 1\n",
    "    ans *= score\n",
    "print(ans)"
   ]
  },
  {
   "cell_type": "code",
   "execution_count": null,
   "metadata": {},
   "outputs": [],
   "source": []
  }
 ],
 "metadata": {
  "kernelspec": {
   "display_name": "Python 3",
   "language": "python",
   "name": "python3"
  },
  "language_info": {
   "codemirror_mode": {
    "name": "ipython",
    "version": 3
   },
   "file_extension": ".py",
   "mimetype": "text/x-python",
   "name": "python",
   "nbconvert_exporter": "python",
   "pygments_lexer": "ipython3",
   "version": "3.7.6"
  }
 },
 "nbformat": 4,
 "nbformat_minor": 4
}
