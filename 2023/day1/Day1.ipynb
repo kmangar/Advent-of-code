{
 "cells": [
  {
   "cell_type": "markdown",
   "metadata": {},
   "source": [
    "# Day 1: Trebuchet?!\n",
    "\n",
    "<p>Something is wrong with global snow production, and you've been selected to take a look. The Elves have even given you a map; on it, they've used stars to mark the top fifty locations that are likely to be having problems.\n",
    "\n",
    "You've been doing this long enough to know that to restore snow operations, you need to check all fifty stars by December 25th.\n",
    "\n",
    "Collect stars by solving puzzles. Two puzzles will be made available on each day in the Advent calendar; the second puzzle is unlocked when you complete the first. Each puzzle grants one star. Good luck!\n",
    "\n",
    "You try to ask why they can't just use a weather machine (\"not powerful enough\") and where they're even sending you (\"the sky\") and why your map looks mostly blank (\"you sure ask a lot of questions\") and hang on did you just say the sky (\"of course, where do you think snow comes from\") when you realize that the Elves are already loading you into a trebuchet (\"please hold still, we need to strap you in\").\n",
    "\n",
    "As they're making the final adjustments, they discover that their calibration document (your puzzle input) has been amended by a very young Elf who was apparently just excited to show off her art skills. Consequently, the Elves are having trouble reading the values on the document.\n",
    "\n",
    "The newly-improved calibration document consists of lines of text; each line originally contained a specific calibration value that the Elves now need to recover. On each line, the calibration value can be found by combining the first digit and the last digit (in that order) to form a single two-digit number.</p> <b> </b>\n",
    "\n",
    "\n",
    "<p>For example:</p>\n",
    "\n",
    "``` \n",
    "1abc2\n",
    "pqr3stu8vwx\n",
    "a1b2c3d4e5f\n",
    "treb7uchet\n",
    "\n",
    "```\n",
    "<p>\n",
    "In this example, the calibration values of these four lines are 12, 38, 15, and 77. Adding these together produces 142.\n",
    "\n",
    "Consider your entire calibration document. What is the sum of all of the calibration values?\n",
    "\n",
    "</p>\n",
    "\n",
    "\n",
    "\n",
    "\n"
   ]
  },
  {
   "cell_type": "code",
   "execution_count": null,
   "metadata": {},
   "outputs": [],
   "source": []
  },
  {
   "cell_type": "code",
   "execution_count": null,
   "metadata": {},
   "outputs": [],
   "source": [
    "day1input = open('day1.txt','r')\n",
    "print(day1input.read()) \n",
    "\n"
   ]
  },
  {
   "cell_type": "code",
   "execution_count": null,
   "metadata": {
    "scrolled": true
   },
   "outputs": [],
   "source": [
    "#get the first digit in the line \n",
    "with open('day1.txt','r') as f:\n",
    "    for line in f:\n",
    "        first_digit = None\n",
    "\n",
    "        for char in line:\n",
    "            if char.isdigit():\n",
    "                first_digit = char\n",
    "                break\n",
    "\n",
    "        print(first_digit)\n",
    "        \n",
    "\n"
   ]
  },
  {
   "cell_type": "code",
   "execution_count": null,
   "metadata": {},
   "outputs": [],
   "source": [
    "#get the last digit in the line \n",
    "\n",
    "with open('day1.txt') as last:\n",
    "    for line in last:\n",
    "        last_digit = None\n",
    "\n",
    "        for char in reversed(line):\n",
    "            if char.isdigit():\n",
    "                last_digit = char\n",
    "                break\n",
    "\n",
    "        print(last_digit)\n",
    "        \n"
   ]
  },
  {
   "cell_type": "code",
   "execution_count": null,
   "metadata": {},
   "outputs": [],
   "source": [
    "# concate first and last of every line  and get total \n",
    "Total = 0\n",
    "\n",
    "with open('day1.txt') as text:\n",
    "    for line in text:\n",
    "        first_digit = None\n",
    "        last_digit = None\n",
    "\n",
    "        # get the first digit\n",
    "        for char in line:\n",
    "            if char.isdigit():\n",
    "                first_digit = char\n",
    "                break\n",
    "\n",
    "        # get the last digit by reversing the line and finding the first digit\n",
    "\n",
    "        for char in reversed(line):\n",
    "            if char.isdigit():\n",
    "                last_digit = char\n",
    "                break\n",
    "        # concatenate the first and the last \n",
    "        number = first_digit + last_digit  \n",
    "\n",
    "        # convert the concatenated string to integer, to add and get the total  \n",
    "        Total += int(number)\n",
    "        print(number)\n",
    "\n",
    "\n",
    "print(Total)\n"
   ]
  },
  {
   "cell_type": "code",
   "execution_count": 13,
   "metadata": {},
   "outputs": [
    {
     "ename": "AttributeError",
     "evalue": "'NoneType' object has no attribute 'group'",
     "output_type": "error",
     "traceback": [
      "\u001b[0;31m---------------------------------------------------------------------------\u001b[0m",
      "\u001b[0;31mAttributeError\u001b[0m                            Traceback (most recent call last)",
      "Cell \u001b[0;32mIn[13], line 31\u001b[0m\n\u001b[1;32m     28\u001b[0m \u001b[38;5;28;01melse\u001b[39;00m:\n\u001b[1;32m     29\u001b[0m     last_digit \u001b[38;5;241m=\u001b[39m \u001b[38;5;241m0\u001b[39m\n\u001b[0;32m---> 31\u001b[0m last_digit \u001b[38;5;241m=\u001b[39m \u001b[38;5;28mint\u001b[39m(\u001b[43mlast_digit_re\u001b[49m\u001b[38;5;241;43m.\u001b[39;49m\u001b[43msearch\u001b[49m\u001b[43m(\u001b[49m\u001b[43mline\u001b[49m\u001b[43m)\u001b[49m\u001b[38;5;241;43m.\u001b[39;49m\u001b[43mgroup\u001b[49m())\n\u001b[1;32m     35\u001b[0m number \u001b[38;5;241m=\u001b[39m first_digit\u001b[38;5;241m*\u001b[39m\u001b[38;5;241m10\u001b[39m \u001b[38;5;241m+\u001b[39m last_digit\n\u001b[1;32m     36\u001b[0m Total \u001b[38;5;241m+\u001b[39m\u001b[38;5;241m=\u001b[39m number\n",
      "\u001b[0;31mAttributeError\u001b[0m: 'NoneType' object has no attribute 'group'"
     ]
    }
   ],
   "source": [
    "# Optimized code\n",
    "\n",
    "import re \n",
    "\n",
    "Total = 0\n",
    "\n",
    "\n",
    "first_digit_re = re.compile(r\"\\d\")\n",
    "last_digit_re = re.compile(r\"\\d$\")\n",
    "\n",
    "with open('day1.txt') as text:\n",
    "    for line in text:\n",
    "\n",
    "        first_match = first_digit_re.search(line)\n",
    "        \n",
    "\n",
    "        if first_match:\n",
    "            first_digit = int(first_match.group())\n",
    "        else:\n",
    "            first_digit = 0 # Set to 0 if no match\n",
    "\n",
    "        first_digit = int(first_digit_re.search(line).group())\n",
    "\n",
    "        \n",
    "        last_match = last_digit_re.search(line)  \n",
    "        if last_match:\n",
    "            last_digit = int(last_match.group()) \n",
    "        else:\n",
    "            last_digit = 0\n",
    "        \n",
    "        last_digit = int(last_digit_re.search(line).group())\n",
    "\n",
    "\n",
    "\n",
    "        number = first_digit*10 + last_digit\n",
    "        Total += number\n",
    "\n",
    "print(Total)"
   ]
  },
  {
   "cell_type": "markdown",
   "metadata": {},
   "source": [
    "### Part one answer (click)\n",
    "\n",
    "<!-- (Your puzzle answer was 54953.) -->\n",
    "\n",
    "\n"
   ]
  },
  {
   "cell_type": "markdown",
   "metadata": {},
   "source": [
    "# --- Part Two ---\n",
    "\n",
    "<p>Your calculation isn't quite right. It looks like some of the digits are actually <em>spelled out with letters</em>: <code>one</code>, <code>two</code>, <code>three</code>, <code>four</code>, <code>five</code>, <code>six</code>, <code>seven</code>, <code>eight</code>, and <code>nine</code> <em>also</em> count as valid \"digits\".</p>\n",
    "\n",
    "\n",
    "<p>Equipped with this new information, you now need to find the real first and last digit on each line. For example:</p>\n",
    "\n",
    "<pre style=\"position: relative;\"><code>two1nine\n",
    "eightwothree\n",
    "abcone2threexyz\n",
    "xtwone3four\n",
    "4nineeightseven2\n",
    "zoneight234\n",
    "7pqrstsixteen\n",
    "</code><div class=\"open_grepper_editor\" title=\"Edit &amp; Save To Grepper\"></div></pre>\n",
    "\n",
    "\n",
    "<p>In this example, the calibration values are <code>29</code>, <code>83</code>, <code>13</code>, <code>24</code>, <code>42</code>, <code>14</code>, and <code>76</code>. Adding these together produces <code><em>281</em></code>.</p>\n",
    "\n",
    "\n",
    "\n",
    "<p><em>What is the sum of all of the calibration values?</em></p>\n"
   ]
  },
  {
   "cell_type": "code",
   "execution_count": 12,
   "metadata": {},
   "outputs": [
    {
     "name": "stdout",
     "output_type": "stream",
     "text": [
      "one\n",
      "<class 'str'>\n"
     ]
    },
    {
     "ename": "KeyError",
     "evalue": "'2'",
     "output_type": "error",
     "traceback": [
      "\u001b[0;31m---------------------------------------------------------------------------\u001b[0m",
      "\u001b[0;31mKeyError\u001b[0m                                  Traceback (most recent call last)",
      "Cell \u001b[0;32mIn[12], line 38\u001b[0m\n\u001b[1;32m     35\u001b[0m \u001b[38;5;28;01melse\u001b[39;00m: \n\u001b[1;32m     36\u001b[0m     first_digit \u001b[38;5;241m=\u001b[39m match[\u001b[38;5;241m0\u001b[39m]\n\u001b[0;32m---> 38\u001b[0m last_digit \u001b[38;5;241m=\u001b[39m \u001b[43mnum_map\u001b[49m\u001b[43m[\u001b[49m\u001b[43mmatch\u001b[49m\u001b[43m[\u001b[49m\u001b[38;5;241;43m-\u001b[39;49m\u001b[38;5;241;43m1\u001b[39;49m\u001b[43m]\u001b[49m\u001b[43m]\u001b[49m\n\u001b[1;32m     42\u001b[0m \u001b[38;5;28;01mif\u001b[39;00m match:\n\u001b[1;32m     43\u001b[0m     \u001b[38;5;66;03m#digit = match.group(1) \u001b[39;00m\n\u001b[1;32m     44\u001b[0m     \u001b[38;5;66;03m#print(num_map[digit]) # Prints 7\u001b[39;00m\n\u001b[1;32m     45\u001b[0m     \u001b[38;5;28mprint\u001b[39m(\u001b[38;5;124m\"\u001b[39m\u001b[38;5;124m\"\u001b[39m)\n",
      "\u001b[0;31mKeyError\u001b[0m: '2'"
     ]
    }
   ],
   "source": [
    "import re\n",
    "\n",
    "digit_regex = re.compile(r\"(one|two|three|four|five|six|seven|eight|nine|\\d+)\")\n",
    "\n",
    "match = digit_regex.search(\"one two three\")\n",
    "if match:\n",
    "    digit_word = match.group(1)\n",
    "    print(digit_word) # Prints one\n",
    "\n",
    "num_map = {\n",
    "    \"one\": 1,\n",
    "    \"two\": 2,\n",
    "    \"three\": 3,\n",
    "    \"four\": 4, \n",
    "    \"five\": 5,\n",
    "    \"six\": 6,\n",
    "    \"seven\": 7,\n",
    "    \"eight\": 8,\n",
    "    \"nine\": 9\n",
    "}\n",
    "\n",
    "test = \"threelephantstwoone2\"\n",
    "revers = str(reversed(test))\n",
    "\n",
    "match = digit_regex.findall(test) \n",
    "print(type(match[0]))\n",
    "\n",
    "if type(match[0]) == str:\n",
    "    first_digit = num_map[match[0]]\n",
    "else: \n",
    "    first_digit = match[0]\n",
    "\n",
    "if type(match[-1]) == str:\n",
    "    first_digit = num_map[match[0]]\n",
    "else: \n",
    "    first_digit = match[0]\n",
    "\n",
    "last_digit = num_map[match[-1]]\n",
    "    \n",
    "\n",
    "\n",
    "if match:\n",
    "    #digit = match.group(1) \n",
    "    #print(num_map[digit]) # Prints 7\n",
    "    print(\"\")\n",
    "else:\n",
    "    print(int(digit))\n",
    "\n",
    "print(type(str(reversed(test))))"
   ]
  },
  {
   "cell_type": "code",
   "execution_count": 8,
   "metadata": {},
   "outputs": [
    {
     "name": "stdout",
     "output_type": "stream",
     "text": [
      "The original list is : [1, 5, 6, 7, 4]\n",
      "The first element of list are : [4]\n"
     ]
    }
   ],
   "source": [
    "# initializing list\n",
    "test_list = [1, 5, 6, 7, 4]\n",
    " \n",
    "# printing original list\n",
    "print(\"The original list is : \" + str(test_list))\n",
    " \n",
    "# using list indexing\n",
    "# to get first element of list\n",
    "res = [test_list[-1]]\n",
    " \n",
    "# printing result\n",
    "print(\"The first element of list are : \" + str(res))"
   ]
  }
 ],
 "metadata": {
  "kernelspec": {
   "display_name": "Python 3",
   "language": "python",
   "name": "python3"
  },
  "language_info": {
   "codemirror_mode": {
    "name": "ipython",
    "version": 3
   },
   "file_extension": ".py",
   "mimetype": "text/x-python",
   "name": "python",
   "nbconvert_exporter": "python",
   "pygments_lexer": "ipython3",
   "version": "3.10.13"
  }
 },
 "nbformat": 4,
 "nbformat_minor": 4
}
