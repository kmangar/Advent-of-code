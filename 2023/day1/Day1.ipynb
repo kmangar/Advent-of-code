{
 "cells": [
  {
   "cell_type": "markdown",
   "metadata": {},
   "source": [
    "## Day 1: Trebuchet?!\n",
    "\n",
    "<p>Something is wrong with global snow production, and you've been selected to take a look. The Elves have even given you a map; on it, they've used stars to mark the top fifty locations that are likely to be having problems.\n",
    "\n",
    "You've been doing this long enough to know that to restore snow operations, you need to check all fifty stars by December 25th.\n",
    "\n",
    "Collect stars by solving puzzles. Two puzzles will be made available on each day in the Advent calendar; the second puzzle is unlocked when you complete the first. Each puzzle grants one star. Good luck!\n",
    "\n",
    "You try to ask why they can't just use a weather machine (\"not powerful enough\") and where they're even sending you (\"the sky\") and why your map looks mostly blank (\"you sure ask a lot of questions\") and hang on did you just say the sky (\"of course, where do you think snow comes from\") when you realize that the Elves are already loading you into a trebuchet (\"please hold still, we need to strap you in\").\n",
    "\n",
    "As they're making the final adjustments, they discover that their calibration document (your puzzle input) has been amended by a very young Elf who was apparently just excited to show off her art skills. Consequently, the Elves are having trouble reading the values on the document.\n",
    "\n",
    "The newly-improved calibration document consists of lines of text; each line originally contained a specific calibration value that the Elves now need to recover. On each line, the calibration value can be found by combining the first digit and the last digit (in that order) to form a single two-digit number.</p> <b> </b>\n",
    "\n",
    "\n",
    "<p>For example:</p>\n",
    "\n",
    "``` \n",
    "1abc2\n",
    "pqr3stu8vwx\n",
    "a1b2c3d4e5f\n",
    "treb7uchet\n",
    "\n",
    "```\n",
    "<p>\n",
    "In this example, the calibration values of these four lines are 12, 38, 15, and 77. Adding these together produces 142.\n",
    "\n",
    "Consider your entire calibration document. What is the sum of all of the calibration values?\n",
    "\n",
    "</p>\n",
    "\n",
    "\n",
    "\n",
    "\n"
   ]
  },
  {
   "cell_type": "code",
   "execution_count": 4,
   "metadata": {},
   "outputs": [
    {
     "ename": "FileNotFoundError",
     "evalue": "[Errno 2] No such file or directory: 'inputs/day1.txt'",
     "output_type": "error",
     "traceback": [
      "\u001b[0;31m---------------------------------------------------------------------------\u001b[0m",
      "\u001b[0;31mFileNotFoundError\u001b[0m                         Traceback (most recent call last)",
      "Cell \u001b[0;32mIn[4], line 1\u001b[0m\n\u001b[0;32m----> 1\u001b[0m f \u001b[38;5;241m=\u001b[39m \u001b[38;5;28;43mopen\u001b[39;49m\u001b[43m(\u001b[49m\u001b[38;5;124;43m'\u001b[39;49m\u001b[38;5;124;43minputs/day1.txt\u001b[39;49m\u001b[38;5;124;43m'\u001b[39;49m\u001b[43m,\u001b[49m\u001b[38;5;124;43m'\u001b[39;49m\u001b[38;5;124;43mr\u001b[39;49m\u001b[38;5;124;43m'\u001b[39;49m\u001b[43m)\u001b[49m\n\u001b[1;32m      2\u001b[0m \u001b[38;5;28mprint\u001b[39m(f\u001b[38;5;241m.\u001b[39mread()) \n",
      "File \u001b[0;32m~/.local/lib/python3.10/site-packages/IPython/core/interactiveshell.py:308\u001b[0m, in \u001b[0;36m_modified_open\u001b[0;34m(file, *args, **kwargs)\u001b[0m\n\u001b[1;32m    301\u001b[0m \u001b[38;5;28;01mif\u001b[39;00m file \u001b[38;5;129;01min\u001b[39;00m {\u001b[38;5;241m0\u001b[39m, \u001b[38;5;241m1\u001b[39m, \u001b[38;5;241m2\u001b[39m}:\n\u001b[1;32m    302\u001b[0m     \u001b[38;5;28;01mraise\u001b[39;00m \u001b[38;5;167;01mValueError\u001b[39;00m(\n\u001b[1;32m    303\u001b[0m         \u001b[38;5;124mf\u001b[39m\u001b[38;5;124m\"\u001b[39m\u001b[38;5;124mIPython won\u001b[39m\u001b[38;5;124m'\u001b[39m\u001b[38;5;124mt let you open fd=\u001b[39m\u001b[38;5;132;01m{\u001b[39;00mfile\u001b[38;5;132;01m}\u001b[39;00m\u001b[38;5;124m by default \u001b[39m\u001b[38;5;124m\"\u001b[39m\n\u001b[1;32m    304\u001b[0m         \u001b[38;5;124m\"\u001b[39m\u001b[38;5;124mas it is likely to crash IPython. If you know what you are doing, \u001b[39m\u001b[38;5;124m\"\u001b[39m\n\u001b[1;32m    305\u001b[0m         \u001b[38;5;124m\"\u001b[39m\u001b[38;5;124myou can use builtins\u001b[39m\u001b[38;5;124m'\u001b[39m\u001b[38;5;124m open.\u001b[39m\u001b[38;5;124m\"\u001b[39m\n\u001b[1;32m    306\u001b[0m     )\n\u001b[0;32m--> 308\u001b[0m \u001b[38;5;28;01mreturn\u001b[39;00m \u001b[43mio_open\u001b[49m\u001b[43m(\u001b[49m\u001b[43mfile\u001b[49m\u001b[43m,\u001b[49m\u001b[43m \u001b[49m\u001b[38;5;241;43m*\u001b[39;49m\u001b[43margs\u001b[49m\u001b[43m,\u001b[49m\u001b[43m \u001b[49m\u001b[38;5;241;43m*\u001b[39;49m\u001b[38;5;241;43m*\u001b[39;49m\u001b[43mkwargs\u001b[49m\u001b[43m)\u001b[49m\n",
      "\u001b[0;31mFileNotFoundError\u001b[0m: [Errno 2] No such file or directory: 'inputs/day1.txt'"
     ]
    }
   ],
   "source": [
    "f = open('inputs/day1.txt','r')\n",
    "print(f.read()) \n",
    "\n"
   ]
  },
  {
   "cell_type": "code",
   "execution_count": 47,
   "metadata": {
    "scrolled": true
   },
   "outputs": [
    {
     "name": "stdout",
     "output_type": "stream",
     "text": [
      "['408\\n', '1614\\n', '1321\\n', '1028\\n', '1018\\n', '2008\\n', '1061\\n', '1433\\n', '1434\\n', '1383\\n', '1645\\n', '1841\\n', '1594\\n', '1218\\n', '1729\\n', '1908\\n', '1237\\n', '1152\\n', '1771\\n', '1837\\n', '1709\\n', '1449\\n', '1876\\n', '1763\\n', '1676\\n', '1491\\n', '1983\\n', '1743\\n', '1845\\n', '999\\n', '1478\\n', '1929\\n', '1819\\n', '1385\\n', '1308\\n', '1703\\n', '1246\\n', '1831\\n', '1964\\n', '1469\\n', '1977\\n', '1488\\n', '1698\\n', '1640\\n', '1513\\n', '1136\\n', '1794\\n', '1685\\n', '1802\\n', '1520\\n', '1807\\n', '1654\\n', '1547\\n', '1917\\n', '1792\\n', '1949\\n', '1268\\n', '1626\\n', '1493\\n', '1534\\n', '1700\\n', '1844\\n', '1146\\n', '1049\\n', '1811\\n', '1627\\n', '1630\\n', '1755\\n', '1887\\n', '1290\\n', '1446\\n', '1968\\n', '168\\n', '1749\\n', '1479\\n', '1651\\n', '1646\\n', '1839\\n', '14\\n', '1918\\n', '1568\\n', '1554\\n', '1926\\n', '1942\\n', '1862\\n', '1966\\n', '1536\\n', '1599\\n', '1439\\n', '1766\\n', '1643\\n', '1045\\n', '1537\\n', '1786\\n', '1596\\n', '1954\\n', '1390\\n', '1981\\n', '1362\\n', '1292\\n', '1573\\n', '1541\\n', '1515\\n', '1567\\n', '1860\\n', '1066\\n', '1879\\n', '1800\\n', '1309\\n', '1533\\n', '1812\\n', '1774\\n', '1119\\n', '1602\\n', '1677\\n', '482\\n', '1054\\n', '1424\\n', '1631\\n', '1829\\n', '1550\\n', '1636\\n', '1604\\n', '185\\n', '1642\\n', '1304\\n', '1843\\n', '1773\\n', '1667\\n', '1530\\n', '1047\\n', '1584\\n', '1958\\n', '1160\\n', '1570\\n', '1705\\n', '1582\\n', '1692\\n', '1886\\n', '1673\\n', '1842\\n', '1402\\n', '1517\\n', '1805\\n', '1386\\n', '1165\\n', '1867\\n', '1153\\n', '1467\\n', '1473\\n', '1803\\n', '1967\\n', '1485\\n', '1448\\n', '1922\\n', '1258\\n', '1590\\n', '1996\\n', '1208\\n', '1241\\n', '1412\\n', '1610\\n', '1219\\n', '523\\n', '1813\\n', '1123\\n', '1916\\n', '1861\\n', '1020\\n', '1783\\n', '1052\\n', '1140\\n', '1994\\n', '1761\\n', '747\\n', '1885\\n', '1675\\n', '1957\\n', '1476\\n', '1382\\n', '1878\\n', '1099\\n', '1882\\n', '855\\n', '1905\\n', '1037\\n', '1714\\n', '1988\\n', '1648\\n', '1135\\n', '1859\\n', '1798\\n', '1333\\n', '1158\\n', '1909\\n', '652\\n', '1934\\n', '1830\\n', '1442\\n', '1224']\n",
      "200\n"
     ]
    }
   ],
   "source": [
    "#read the input and put it in a list\n",
    "text_file = open(\"input.txt\", \"r\")\n",
    "lines = text_file.readlines()\n",
    "print (lines)\n",
    "print (len(lines))\n",
    "text_file.close()"
   ]
  },
  {
   "cell_type": "code",
   "execution_count": 48,
   "metadata": {},
   "outputs": [],
   "source": [
    "#convert from string to int\n",
    "for i in range(0, len(lines)): \n",
    "    lines[i] = int(lines[i]) "
   ]
  },
  {
   "cell_type": "code",
   "execution_count": 53,
   "metadata": {},
   "outputs": [
    {
     "name": "stdout",
     "output_type": "stream",
     "text": [
      "[408, 1614, 1321, 1028, 1018, 2008, 1061, 1433, 1434, 1383, 1645, 1841, 1594, 1218, 1729, 1908, 1237, 1152, 1771, 1837, 1709, 1449, 1876, 1763, 1676, 1491, 1983, 1743, 1845, 999, 1478, 1929, 1819, 1385, 1308, 1703, 1246, 1831, 1964, 1469, 1977, 1488, 1698, 1640, 1513, 1136, 1794, 1685, 1802, 1520, 1807, 1654, 1547, 1917, 1792, 1949, 1268, 1626, 1493, 1534, 1700, 1844, 1146, 1049, 1811, 1627, 1630, 1755, 1887, 1290, 1446, 1968, 168, 1749, 1479, 1651, 1646, 1839, 14, 1918, 1568, 1554, 1926, 1942, 1862, 1966, 1536, 1599, 1439, 1766, 1643, 1045, 1537, 1786, 1596, 1954, 1390, 1981, 1362, 1292, 1573, 1541, 1515, 1567, 1860, 1066, 1879, 1800, 1309, 1533, 1812, 1774, 1119, 1602, 1677, 482, 1054, 1424, 1631, 1829, 1550, 1636, 1604, 185, 1642, 1304, 1843, 1773, 1667, 1530, 1047, 1584, 1958, 1160, 1570, 1705, 1582, 1692, 1886, 1673, 1842, 1402, 1517, 1805, 1386, 1165, 1867, 1153, 1467, 1473, 1803, 1967, 1485, 1448, 1922, 1258, 1590, 1996, 1208, 1241, 1412, 1610, 1219, 523, 1813, 1123, 1916, 1861, 1020, 1783, 1052, 1140, 1994, 1761, 747, 1885, 1675, 1957, 1476, 1382, 1878, 1099, 1882, 855, 1905, 1037, 1714, 1988, 1648, 1135, 1859, 1798, 1333, 1158, 1909, 652, 1934, 1830, 1442, 1224]\n"
     ]
    }
   ],
   "source": [
    "#copy to do add each\n",
    "temp = lines.copy()\n",
    "print(lines)"
   ]
  },
  {
   "cell_type": "code",
   "execution_count": 58,
   "metadata": {},
   "outputs": [
    {
     "name": "stdout",
     "output_type": "stream",
     "text": [
      "1165 and 855\n",
      "855 and 1165\n"
     ]
    }
   ],
   "source": [
    "#add each one twice, you could also use pop() aswell to do it \n",
    "for i in lines:\n",
    "    for j in temp:\n",
    "        if((i+j) == 2020):\n",
    "            print(str(i) +' and '+ str(j))\n",
    " "
   ]
  },
  {
   "cell_type": "code",
   "execution_count": 41,
   "metadata": {},
   "outputs": [
    {
     "name": "stdout",
     "output_type": "stream",
     "text": [
      "996075\n"
     ]
    }
   ],
   "source": [
    "#they need the product of two\n",
    "print(855*1165)"
   ]
  },
  {
   "cell_type": "markdown",
   "metadata": {},
   "source": [
    "# Part 2\n",
    "<p>Using the above example again, the three entries that sum to 2020 are 979, 366, and 675. Multiplying them together produces the answer, 241861950.\n",
    "\n",
    "In your expense report, what is the product of the three entries that sum to 2020?</p>"
   ]
  },
  {
   "cell_type": "code",
   "execution_count": 1,
   "metadata": {},
   "outputs": [
    {
     "ename": "NameError",
     "evalue": "name 'lines' is not defined",
     "output_type": "error",
     "traceback": [
      "\u001b[0;31m---------------------------------------------------------------------------\u001b[0m",
      "\u001b[0;31mNameError\u001b[0m                                 Traceback (most recent call last)",
      "Cell \u001b[0;32mIn[1], line 1\u001b[0m\n\u001b[0;32m----> 1\u001b[0m temp2 \u001b[38;5;241m=\u001b[39m \u001b[43mlines\u001b[49m\u001b[38;5;241m.\u001b[39mcopy()\n",
      "\u001b[0;31mNameError\u001b[0m: name 'lines' is not defined"
     ]
    }
   ],
   "source": [
    "temp2 = lines.copy()"
   ]
  },
  {
   "cell_type": "code",
   "execution_count": 66,
   "metadata": {},
   "outputs": [
    {
     "name": "stdout",
     "output_type": "stream",
     "text": [
      "168 + 185 + 1667\n",
      "168 + 1667 + 185\n",
      "185 + 168 + 1667\n",
      "185 + 1667 + 168\n",
      "1667 + 168 + 185\n",
      "1667 + 185 + 168\n"
     ]
    }
   ],
   "source": [
    "#we can use the same method and add a third for loop \n",
    "#not effiect way \n",
    "for i in lines:\n",
    "    for j in temp:\n",
    "        for k in temp2: \n",
    "            if((i+j+k) == 2020):\n",
    "                print(str(i) +' + '+ str(j)+' + '+ str(k))\n",
    "                break\n",
    "            \n",
    "                "
   ]
  },
  {
   "cell_type": "markdown",
   "metadata": {},
   "source": [
    "what is the product of the three entries that sum to 2020?"
   ]
  },
  {
   "cell_type": "code",
   "execution_count": 68,
   "metadata": {},
   "outputs": [
    {
     "name": "stdout",
     "output_type": "stream",
     "text": [
      "51810360\n"
     ]
    }
   ],
   "source": [
    "print(1667*185*168)"
   ]
  }
 ],
 "metadata": {
  "kernelspec": {
   "display_name": "Python 3",
   "language": "python",
   "name": "python3"
  },
  "language_info": {
   "codemirror_mode": {
    "name": "ipython",
    "version": 3
   },
   "file_extension": ".py",
   "mimetype": "text/x-python",
   "name": "python",
   "nbconvert_exporter": "python",
   "pygments_lexer": "ipython3",
   "version": "3.10.13"
  }
 },
 "nbformat": 4,
 "nbformat_minor": 4
}
